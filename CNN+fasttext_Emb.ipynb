{
  "nbformat": 4,
  "nbformat_minor": 0,
  "metadata": {
    "colab": {
      "name": "CNN+fasttext Emb.ipynb",
      "provenance": [],
      "collapsed_sections": []
    },
    "kernelspec": {
      "name": "python3",
      "display_name": "Python 3"
    },
    "accelerator": "GPU"
  },
  "cells": [
    {
      "cell_type": "code",
      "metadata": {
        "id": "Qz-WOIwnAMU_"
      },
      "source": [
        "! cp \"/content/drive/My Drive/negative.csv\" \"/content\"\n",
        "! cp \"/content/drive/My Drive/positive.csv\" \"/content\""
      ],
      "execution_count": null,
      "outputs": []
    },
    {
      "cell_type": "code",
      "metadata": {
        "id": "DLXpyXI_IHoG",
        "colab": {
          "base_uri": "https://localhost:8080/",
          "height": 34
        },
        "outputId": "a7dd3bba-e1ee-4b66-b0d3-4ebcb90c74ce"
      },
      "source": [
        "!tf_upgrade_v2 — infile foo.py — outfile foo-upgraded.py"
      ],
      "execution_count": null,
      "outputs": [
        {
          "output_type": "stream",
          "text": [
            "/bin/bash: tf_upgrade_v2 — infile: command not found\n"
          ],
          "name": "stdout"
        }
      ]
    },
    {
      "cell_type": "markdown",
      "metadata": {
        "id": "SQaAc8IVaNbn"
      },
      "source": [
        "#1. Загрузка данных из текстовых файлов"
      ]
    },
    {
      "cell_type": "code",
      "metadata": {
        "id": "GoXbbRpgXoax"
      },
      "source": [
        "import pandas as pd\n",
        "import numpy as np\n",
        "from tqdm import tqdm\n",
        "import os, re, csv, math, codecs\n",
        "\n",
        "n = ['id', 'date', 'name', 'text', 'typr', 'rep', 'rtw', 'faw', 'stcount', 'foll', 'frien', 'listcount']\n",
        "data_positive = pd.read_csv('positive.csv', sep=';', error_bad_lines=False, names=n, usecols=['text'])\n",
        "data_negative = pd.read_csv('negative.csv', sep=';', error_bad_lines=False, names=n, usecols=['text'])\n",
        "\n",
        "sample_size = min(data_positive.shape[0], data_negative.shape[0])\n",
        "raw_data = np.concatenate((data_positive['text'].values[:sample_size],\n",
        "                           data_negative['text'].values[:sample_size]), axis=0)\n",
        "labels = [1] * sample_size + [0] * sample_size"
      ],
      "execution_count": null,
      "outputs": []
    },
    {
      "cell_type": "code",
      "metadata": {
        "id": "AfTnAGaWX5-y"
      },
      "source": [
        "import re\n",
        "\n",
        "def preprocess_text(text):\n",
        "    text = text.lower().replace(\"ё\", \"е\")\n",
        "    text = re.sub('((www\\.[^\\s]+)|(https?://[^\\s]+))', 'URL', text)\n",
        "    text = re.sub('@[^\\s]+', 'USER', text)\n",
        "    text = re.sub('[^a-zA-Zа-яА-Я1-9]+', ' ', text)\n",
        "    text = re.sub(' +', ' ', text)\n",
        "    return text.strip()\n",
        "\n",
        "\n",
        "data = [preprocess_text(t) for t in raw_data]"
      ],
      "execution_count": null,
      "outputs": []
    },
    {
      "cell_type": "code",
      "metadata": {
        "id": "OlQJz8kKXQdF"
      },
      "source": [
        "from sklearn.model_selection import train_test_split\n",
        "\n",
        "x_train, x_test, y_train, y_test = train_test_split(data, labels, test_size=0.2, random_state=2)"
      ],
      "execution_count": null,
      "outputs": []
    },
    {
      "cell_type": "code",
      "metadata": {
        "id": "FK4Td_iEqrhW"
      },
      "source": [
        ""
      ],
      "execution_count": null,
      "outputs": []
    },
    {
      "cell_type": "code",
      "metadata": {
        "id": "DFl5MB8DqrQe"
      },
      "source": [
        ""
      ],
      "execution_count": null,
      "outputs": []
    },
    {
      "cell_type": "markdown",
      "metadata": {
        "id": "NWNS08qDaVHq"
      },
      "source": [
        "#2. Метрики качества классификации"
      ]
    },
    {
      "cell_type": "code",
      "metadata": {
        "id": "7yk8qkZJaXok",
        "colab": {
          "base_uri": "https://localhost:8080/",
          "height": 34
        },
        "outputId": "46ee9c9a-b116-4055-d6c3-992ca77de60d"
      },
      "source": [
        "from keras import backend as K\n",
        "\n",
        "\n",
        "def precision(y_true, y_pred):\n",
        "\n",
        "    true_positives = K.sum(K.round(K.clip(y_true * y_pred, 0, 1)))\n",
        "    predicted_positives = K.sum(K.round(K.clip(y_pred, 0, 1)))\n",
        "    precision = true_positives / (predicted_positives + K.epsilon())\n",
        "    return precision\n",
        "\n",
        "\n",
        "def recall(y_true, y_pred):\n",
        "\n",
        "    true_positives = K.sum(K.round(K.clip(y_true * y_pred, 0, 1)))\n",
        "    possible_positives = K.sum(K.round(K.clip(y_true, 0, 1)))\n",
        "    recall = true_positives / (possible_positives + K.epsilon())\n",
        "    return recall\n",
        "\n",
        "\n",
        "def f1(y_true, y_pred):\n",
        "    def recall(y_true, y_pred):\n",
        "        \n",
        "        true_positives = K.sum(K.round(K.clip(y_true * y_pred, 0, 1)))\n",
        "        possible_positives = K.sum(K.round(K.clip(y_true, 0, 1)))\n",
        "        recall = true_positives / (possible_positives + K.epsilon())\n",
        "        return recall\n",
        "\n",
        "    def precision(y_true, y_pred):\n",
        "       \n",
        "        true_positives = K.sum(K.round(K.clip(y_true * y_pred, 0, 1)))\n",
        "        predicted_positives = K.sum(K.round(K.clip(y_pred, 0, 1)))\n",
        "        precision = true_positives / (predicted_positives + K.epsilon())\n",
        "        return precision\n",
        "\n",
        "    precision = precision(y_true, y_pred)\n",
        "    recall = recall(y_true, y_pred)\n",
        "    return 2 * ((precision * recall) / (precision + recall + K.epsilon()))"
      ],
      "execution_count": null,
      "outputs": [
        {
          "output_type": "stream",
          "text": [
            "Using TensorFlow backend.\n"
          ],
          "name": "stderr"
        }
      ]
    },
    {
      "cell_type": "markdown",
      "metadata": {
        "id": "-ICCSzsqaego"
      },
      "source": [
        "#3 Векторизация слов"
      ]
    },
    {
      "cell_type": "code",
      "metadata": {
        "id": "hSihsKw3acNu"
      },
      "source": [
        "from keras.preprocessing.text import Tokenizer\n",
        "from keras.preprocessing.sequence import pad_sequences\n",
        "\n",
        "SENTENCE_LENGTH = 26\n",
        "NUM = 100000\n",
        "\n",
        "def get_sequences(tokenizer, x):\n",
        "    sequences = tokenizer.texts_to_sequences(x)\n",
        "    return pad_sequences(sequences, maxlen=SENTENCE_LENGTH)\n",
        "\n",
        "tokenizer = Tokenizer(num_words=NUM)\n",
        "tokenizer.fit_on_texts(x_train)\n",
        "\n",
        "x_train_seq = get_sequences(tokenizer, x_train)\n",
        "x_test_seq = get_sequences(tokenizer, x_test)"
      ],
      "execution_count": null,
      "outputs": []
    },
    {
      "cell_type": "code",
      "metadata": {
        "id": "-zRkh0wQajqJ",
        "colab": {
          "base_uri": "https://localhost:8080/",
          "height": 68
        },
        "outputId": "6fc31deb-6154-4e66-c896-4cd292d37c17"
      },
      "source": [
        "print('loading word embeddings...')\n",
        "embeddings_index = {}\n",
        "f = codecs.open('/content/fasttextr.vec', encoding='utf-8')\n",
        "for line in tqdm(f):\n",
        "    values = line.rstrip().rsplit(' ')\n",
        "    word = values[0]\n",
        "    coefs = np.asarray(values[1:], dtype='float32')\n",
        "    embeddings_index[word] = coefs\n",
        "f.close()\n",
        "print('found %s word vectors' % len(embeddings_index))"
      ],
      "execution_count": null,
      "outputs": [
        {
          "output_type": "stream",
          "text": [
            "2314it [00:00, 23137.10it/s]"
          ],
          "name": "stderr"
        },
        {
          "output_type": "stream",
          "text": [
            "loading word embeddings...\n"
          ],
          "name": "stdout"
        },
        {
          "output_type": "stream",
          "text": [
            "1386609it [01:03, 21923.89it/s]"
          ],
          "name": "stderr"
        },
        {
          "output_type": "stream",
          "text": [
            "found 1386609 word vectors\n"
          ],
          "name": "stdout"
        },
        {
          "output_type": "stream",
          "text": [
            "\n"
          ],
          "name": "stderr"
        }
      ]
    },
    {
      "cell_type": "code",
      "metadata": {
        "id": "JfCVJ76z2gJG",
        "colab": {
          "base_uri": "https://localhost:8080/",
          "height": 51
        },
        "outputId": "ebf11127-a391-447f-da4a-e3408dcfcbe9"
      },
      "source": [
        "DIM=100\n",
        "\n",
        "#embedding matrix\n",
        "print('preparing embedding matrix...')\n",
        "words_not_found = []\n",
        "word_index = tokenizer.word_index\n",
        "NUM = min(NUM, len(word_index))\n",
        "embedding_matrix = np.zeros((NUM, DIM))\n",
        "for word, i in word_index.items():\n",
        "    if i >= NUM: continue\n",
        "    embedding_vector = embeddings_index.get(word)\n",
        "    \n",
        "# words not found in embedding index will be all-zeros.\n",
        "    if embedding_vector is not None: embedding_matrix[i] = embedding_vector\n",
        "    else:\n",
        "        words_not_found.append(word)\n",
        "print('number of null word embeddings: %d' % np.sum(np.sum(embedding_matrix, axis=1) == 0))"
      ],
      "execution_count": null,
      "outputs": [
        {
          "output_type": "stream",
          "text": [
            "preparing embedding matrix...\n",
            "number of null word embeddings: 21079\n"
          ],
          "name": "stdout"
        }
      ]
    },
    {
      "cell_type": "markdown",
      "metadata": {
        "id": "xy9G7QkdakIz"
      },
      "source": [
        "# 4. Построение сверточной нейросети"
      ]
    },
    {
      "cell_type": "code",
      "metadata": {
        "id": "mPjuQa6manxy"
      },
      "source": [
        "from keras.layers import Input\n",
        "from keras.layers.embeddings import Embedding\n",
        "\n",
        "tweet_input = Input(shape=(SENTENCE_LENGTH,), dtype='int32')\n",
        "tweet_encoder = Embedding(NUM, DIM, input_length=SENTENCE_LENGTH,\n",
        "                          weights=[embedding_matrix], trainable=False)(tweet_input)"
      ],
      "execution_count": null,
      "outputs": []
    },
    {
      "cell_type": "code",
      "metadata": {
        "id": "WGyTsYphbM_q",
        "colab": {
          "base_uri": "https://localhost:8080/",
          "height": 1567
        },
        "outputId": "6a0b7c40-6318-42b7-e019-1725f875f058"
      },
      "source": [
        "from keras import optimizers\n",
        "from keras.layers import Dense, concatenate, Activation, Dropout\n",
        "from keras.models import Model\n",
        "from keras.layers.convolutional import Conv1D\n",
        "from keras.layers.pooling import GlobalMaxPooling1D\n",
        "\n",
        "branches = []\n",
        "x = Dropout(0.1)(tweet_encoder)\n",
        "\n",
        "for size, filters_count in [(2,6), (3, 6)]:\n",
        "    for i in range(filters_count):\n",
        "        branch = Conv1D(filters=1, kernel_size=size, padding='valid', activation='sigmoid')(x)\n",
        "        branch = GlobalMaxPooling1D()(branch)\n",
        "        branches.append(branch)\n",
        "\n",
        "x = concatenate(branches, axis=1)\n",
        "x = Dropout(0.1)(x)\n",
        "x = Dense(30, activation='relu')(x)\n",
        "x = Dense(1)(x)\n",
        "output = Activation('sigmoid')(x)\n",
        "\n",
        "model = Model(inputs=[tweet_input], outputs=[output])\n",
        "model.compile(loss='binary_crossentropy', optimizer='adam', metrics=[precision, recall, f1])\n",
        "model.summary()"
      ],
      "execution_count": null,
      "outputs": [
        {
          "output_type": "stream",
          "text": [
            "W0613 18:37:58.964887 140247981520768 deprecation.py:506] From /usr/local/lib/python3.6/dist-packages/keras/backend/tensorflow_backend.py:3445: calling dropout (from tensorflow.python.ops.nn_ops) with keep_prob is deprecated and will be removed in a future version.\n",
            "Instructions for updating:\n",
            "Please use `rate` instead of `keep_prob`. Rate should be set to `rate = 1 - keep_prob`.\n",
            "W0613 18:37:59.229192 140247981520768 deprecation_wrapper.py:119] From /usr/local/lib/python3.6/dist-packages/keras/optimizers.py:790: The name tf.train.Optimizer is deprecated. Please use tf.compat.v1.train.Optimizer instead.\n",
            "\n",
            "W0613 18:37:59.253093 140247981520768 deprecation.py:323] From /usr/local/lib/python3.6/dist-packages/tensorflow/python/ops/nn_impl.py:180: add_dispatch_support.<locals>.wrapper (from tensorflow.python.ops.array_ops) is deprecated and will be removed in a future version.\n",
            "Instructions for updating:\n",
            "Use tf.where in 2.0, which has the same broadcast rule as np.where\n"
          ],
          "name": "stderr"
        },
        {
          "output_type": "stream",
          "text": [
            "__________________________________________________________________________________________________\n",
            "Layer (type)                    Output Shape         Param #     Connected to                     \n",
            "==================================================================================================\n",
            "input_2 (InputLayer)            (None, 26)           0                                            \n",
            "__________________________________________________________________________________________________\n",
            "embedding_2 (Embedding)         (None, 26, 100)      10000000    input_2[0][0]                    \n",
            "__________________________________________________________________________________________________\n",
            "dropout_1 (Dropout)             (None, 26, 100)      0           embedding_2[0][0]                \n",
            "__________________________________________________________________________________________________\n",
            "conv1d_1 (Conv1D)               (None, 25, 1)        201         dropout_1[0][0]                  \n",
            "__________________________________________________________________________________________________\n",
            "conv1d_2 (Conv1D)               (None, 25, 1)        201         dropout_1[0][0]                  \n",
            "__________________________________________________________________________________________________\n",
            "conv1d_3 (Conv1D)               (None, 25, 1)        201         dropout_1[0][0]                  \n",
            "__________________________________________________________________________________________________\n",
            "conv1d_4 (Conv1D)               (None, 25, 1)        201         dropout_1[0][0]                  \n",
            "__________________________________________________________________________________________________\n",
            "conv1d_5 (Conv1D)               (None, 25, 1)        201         dropout_1[0][0]                  \n",
            "__________________________________________________________________________________________________\n",
            "conv1d_6 (Conv1D)               (None, 25, 1)        201         dropout_1[0][0]                  \n",
            "__________________________________________________________________________________________________\n",
            "conv1d_7 (Conv1D)               (None, 24, 1)        301         dropout_1[0][0]                  \n",
            "__________________________________________________________________________________________________\n",
            "conv1d_8 (Conv1D)               (None, 24, 1)        301         dropout_1[0][0]                  \n",
            "__________________________________________________________________________________________________\n",
            "conv1d_9 (Conv1D)               (None, 24, 1)        301         dropout_1[0][0]                  \n",
            "__________________________________________________________________________________________________\n",
            "conv1d_10 (Conv1D)              (None, 24, 1)        301         dropout_1[0][0]                  \n",
            "__________________________________________________________________________________________________\n",
            "conv1d_11 (Conv1D)              (None, 24, 1)        301         dropout_1[0][0]                  \n",
            "__________________________________________________________________________________________________\n",
            "conv1d_12 (Conv1D)              (None, 24, 1)        301         dropout_1[0][0]                  \n",
            "__________________________________________________________________________________________________\n",
            "global_max_pooling1d_1 (GlobalM (None, 1)            0           conv1d_1[0][0]                   \n",
            "__________________________________________________________________________________________________\n",
            "global_max_pooling1d_2 (GlobalM (None, 1)            0           conv1d_2[0][0]                   \n",
            "__________________________________________________________________________________________________\n",
            "global_max_pooling1d_3 (GlobalM (None, 1)            0           conv1d_3[0][0]                   \n",
            "__________________________________________________________________________________________________\n",
            "global_max_pooling1d_4 (GlobalM (None, 1)            0           conv1d_4[0][0]                   \n",
            "__________________________________________________________________________________________________\n",
            "global_max_pooling1d_5 (GlobalM (None, 1)            0           conv1d_5[0][0]                   \n",
            "__________________________________________________________________________________________________\n",
            "global_max_pooling1d_6 (GlobalM (None, 1)            0           conv1d_6[0][0]                   \n",
            "__________________________________________________________________________________________________\n",
            "global_max_pooling1d_7 (GlobalM (None, 1)            0           conv1d_7[0][0]                   \n",
            "__________________________________________________________________________________________________\n",
            "global_max_pooling1d_8 (GlobalM (None, 1)            0           conv1d_8[0][0]                   \n",
            "__________________________________________________________________________________________________\n",
            "global_max_pooling1d_9 (GlobalM (None, 1)            0           conv1d_9[0][0]                   \n",
            "__________________________________________________________________________________________________\n",
            "global_max_pooling1d_10 (Global (None, 1)            0           conv1d_10[0][0]                  \n",
            "__________________________________________________________________________________________________\n",
            "global_max_pooling1d_11 (Global (None, 1)            0           conv1d_11[0][0]                  \n",
            "__________________________________________________________________________________________________\n",
            "global_max_pooling1d_12 (Global (None, 1)            0           conv1d_12[0][0]                  \n",
            "__________________________________________________________________________________________________\n",
            "concatenate_1 (Concatenate)     (None, 12)           0           global_max_pooling1d_1[0][0]     \n",
            "                                                                 global_max_pooling1d_2[0][0]     \n",
            "                                                                 global_max_pooling1d_3[0][0]     \n",
            "                                                                 global_max_pooling1d_4[0][0]     \n",
            "                                                                 global_max_pooling1d_5[0][0]     \n",
            "                                                                 global_max_pooling1d_6[0][0]     \n",
            "                                                                 global_max_pooling1d_7[0][0]     \n",
            "                                                                 global_max_pooling1d_8[0][0]     \n",
            "                                                                 global_max_pooling1d_9[0][0]     \n",
            "                                                                 global_max_pooling1d_10[0][0]    \n",
            "                                                                 global_max_pooling1d_11[0][0]    \n",
            "                                                                 global_max_pooling1d_12[0][0]    \n",
            "__________________________________________________________________________________________________\n",
            "dropout_2 (Dropout)             (None, 12)           0           concatenate_1[0][0]              \n",
            "__________________________________________________________________________________________________\n",
            "dense_1 (Dense)                 (None, 30)           390         dropout_2[0][0]                  \n",
            "__________________________________________________________________________________________________\n",
            "dense_2 (Dense)                 (None, 1)            31          dense_1[0][0]                    \n",
            "__________________________________________________________________________________________________\n",
            "activation_1 (Activation)       (None, 1)            0           dense_2[0][0]                    \n",
            "==================================================================================================\n",
            "Total params: 10,003,433\n",
            "Trainable params: 3,433\n",
            "Non-trainable params: 10,000,000\n",
            "__________________________________________________________________________________________________\n"
          ],
          "name": "stdout"
        }
      ]
    },
    {
      "cell_type": "markdown",
      "metadata": {
        "id": "cooVCZmdbOJL"
      },
      "source": [
        "# 5 Обучение и оценка качества"
      ]
    },
    {
      "cell_type": "code",
      "metadata": {
        "id": "z4j6GpTGbSBW",
        "colab": {
          "base_uri": "https://localhost:8080/",
          "height": 394
        },
        "outputId": "509cb93e-39b2-4ced-d2ab-3a6ce8efb1ad"
      },
      "source": [
        "from keras.callbacks import ModelCheckpoint\n",
        "\n",
        "checkpoint = ModelCheckpoint(\"cnn-frozen-embeddings-{epoch:02d}-{val_f1:.2f}.hdf5\", \n",
        "                             monitor='val_f1', save_best_only=True, mode='max', period=1)\n",
        "history = model.fit(x_train_seq, y_train, batch_size=32, epochs=10, validation_split=0.25, callbacks = [checkpoint])"
      ],
      "execution_count": null,
      "outputs": [
        {
          "output_type": "stream",
          "text": [
            "Train on 134307 samples, validate on 44769 samples\n",
            "Epoch 1/10\n",
            "134307/134307 [==============================] - 47s 354us/step - loss: 0.6093 - precision: 0.6665 - recall: 0.6556 - f1: 0.6511 - val_loss: 0.5563 - val_precision: 0.7483 - val_recall: 0.6554 - val_f1: 0.6917\n",
            "Epoch 2/10\n",
            "134307/134307 [==============================] - 43s 323us/step - loss: 0.5652 - precision: 0.7094 - recall: 0.6950 - f1: 0.6939 - val_loss: 0.5361 - val_precision: 0.7617 - val_recall: 0.6637 - val_f1: 0.7020\n",
            "Epoch 3/10\n",
            "134307/134307 [==============================] - 43s 321us/step - loss: 0.5491 - precision: 0.7183 - recall: 0.7022 - f1: 0.7023 - val_loss: 0.5356 - val_precision: 0.8068 - val_recall: 0.5902 - val_f1: 0.6737\n",
            "Epoch 4/10\n",
            "134307/134307 [==============================] - 43s 320us/step - loss: 0.5396 - precision: 0.7267 - recall: 0.7063 - f1: 0.7089 - val_loss: 0.5293 - val_precision: 0.8007 - val_recall: 0.6104 - val_f1: 0.6849\n",
            "Epoch 5/10\n",
            "134307/134307 [==============================] - 43s 320us/step - loss: 0.5352 - precision: 0.7290 - recall: 0.7083 - f1: 0.7112 - val_loss: 0.5187 - val_precision: 0.7834 - val_recall: 0.6531 - val_f1: 0.7051\n",
            "Epoch 6/10\n",
            "134307/134307 [==============================] - 43s 320us/step - loss: 0.5322 - precision: 0.7326 - recall: 0.7121 - f1: 0.7148 - val_loss: 0.5124 - val_precision: 0.7645 - val_recall: 0.7007 - val_f1: 0.7247\n",
            "Epoch 7/10\n",
            "134307/134307 [==============================] - 43s 317us/step - loss: 0.5281 - precision: 0.7346 - recall: 0.7158 - f1: 0.7180 - val_loss: 0.5147 - val_precision: 0.7704 - val_recall: 0.6844 - val_f1: 0.7176\n",
            "Epoch 8/10\n",
            "134307/134307 [==============================] - 43s 321us/step - loss: 0.5282 - precision: 0.7344 - recall: 0.7167 - f1: 0.7181 - val_loss: 0.5114 - val_precision: 0.7648 - val_recall: 0.7040 - val_f1: 0.7268\n",
            "Epoch 9/10\n",
            "134307/134307 [==============================] - 43s 320us/step - loss: 0.5254 - precision: 0.7352 - recall: 0.7169 - f1: 0.7187 - val_loss: 0.5116 - val_precision: 0.7772 - val_recall: 0.6808 - val_f1: 0.7192\n",
            "Epoch 10/10\n",
            "134307/134307 [==============================] - 43s 319us/step - loss: 0.5257 - precision: 0.7354 - recall: 0.7178 - f1: 0.7193 - val_loss: 0.5106 - val_precision: 0.7752 - val_recall: 0.6857 - val_f1: 0.7206\n"
          ],
          "name": "stdout"
        }
      ]
    },
    {
      "cell_type": "code",
      "metadata": {
        "id": "ph709KhcbYCE"
      },
      "source": [
        "model.load_weights('cnn-frozen-embeddings-08-0.73.hdf5')"
      ],
      "execution_count": null,
      "outputs": []
    },
    {
      "cell_type": "code",
      "metadata": {
        "id": "ejR00CFsbaau",
        "colab": {
          "base_uri": "https://localhost:8080/",
          "height": 170
        },
        "outputId": "05223f29-adb6-4360-b94c-40f37bea9f44"
      },
      "source": [
        "from sklearn.metrics import classification_report\n",
        "\n",
        "predicted = np.round(model.predict(x_test_seq))\n",
        "print(classification_report(y_test, predicted, digits=5))"
      ],
      "execution_count": null,
      "outputs": [
        {
          "output_type": "stream",
          "text": [
            "              precision    recall  f1-score   support\n",
            "\n",
            "           0    0.72373   0.78412   0.75271     22457\n",
            "           1    0.76281   0.69874   0.72937     22313\n",
            "\n",
            "    accuracy                        0.74157     44770\n",
            "   macro avg    0.74327   0.74143   0.74104     44770\n",
            "weighted avg    0.74320   0.74157   0.74108     44770\n",
            "\n"
          ],
          "name": "stdout"
        }
      ]
    },
    {
      "cell_type": "code",
      "metadata": {
        "id": "bzTDZlewbcKm",
        "colab": {
          "base_uri": "https://localhost:8080/",
          "height": 1431
        },
        "outputId": "f8ea2ed8-18a4-4d51-fae5-be2f70fbf239"
      },
      "source": [
        "from keras import optimizers\n",
        "\n",
        "model.layers[1].trainable = True\n",
        "adam = optimizers.Adam(lr=0.0001)\n",
        "model.compile(loss='binary_crossentropy', optimizer=adam, metrics=[precision, recall, f1])\n",
        "model.summary()"
      ],
      "execution_count": null,
      "outputs": [
        {
          "output_type": "stream",
          "text": [
            "__________________________________________________________________________________________________\n",
            "Layer (type)                    Output Shape         Param #     Connected to                     \n",
            "==================================================================================================\n",
            "input_2 (InputLayer)            (None, 26)           0                                            \n",
            "__________________________________________________________________________________________________\n",
            "embedding_2 (Embedding)         (None, 26, 100)      10000000    input_2[0][0]                    \n",
            "__________________________________________________________________________________________________\n",
            "dropout_1 (Dropout)             (None, 26, 100)      0           embedding_2[0][0]                \n",
            "__________________________________________________________________________________________________\n",
            "conv1d_1 (Conv1D)               (None, 25, 1)        201         dropout_1[0][0]                  \n",
            "__________________________________________________________________________________________________\n",
            "conv1d_2 (Conv1D)               (None, 25, 1)        201         dropout_1[0][0]                  \n",
            "__________________________________________________________________________________________________\n",
            "conv1d_3 (Conv1D)               (None, 25, 1)        201         dropout_1[0][0]                  \n",
            "__________________________________________________________________________________________________\n",
            "conv1d_4 (Conv1D)               (None, 25, 1)        201         dropout_1[0][0]                  \n",
            "__________________________________________________________________________________________________\n",
            "conv1d_5 (Conv1D)               (None, 25, 1)        201         dropout_1[0][0]                  \n",
            "__________________________________________________________________________________________________\n",
            "conv1d_6 (Conv1D)               (None, 25, 1)        201         dropout_1[0][0]                  \n",
            "__________________________________________________________________________________________________\n",
            "conv1d_7 (Conv1D)               (None, 24, 1)        301         dropout_1[0][0]                  \n",
            "__________________________________________________________________________________________________\n",
            "conv1d_8 (Conv1D)               (None, 24, 1)        301         dropout_1[0][0]                  \n",
            "__________________________________________________________________________________________________\n",
            "conv1d_9 (Conv1D)               (None, 24, 1)        301         dropout_1[0][0]                  \n",
            "__________________________________________________________________________________________________\n",
            "conv1d_10 (Conv1D)              (None, 24, 1)        301         dropout_1[0][0]                  \n",
            "__________________________________________________________________________________________________\n",
            "conv1d_11 (Conv1D)              (None, 24, 1)        301         dropout_1[0][0]                  \n",
            "__________________________________________________________________________________________________\n",
            "conv1d_12 (Conv1D)              (None, 24, 1)        301         dropout_1[0][0]                  \n",
            "__________________________________________________________________________________________________\n",
            "global_max_pooling1d_1 (GlobalM (None, 1)            0           conv1d_1[0][0]                   \n",
            "__________________________________________________________________________________________________\n",
            "global_max_pooling1d_2 (GlobalM (None, 1)            0           conv1d_2[0][0]                   \n",
            "__________________________________________________________________________________________________\n",
            "global_max_pooling1d_3 (GlobalM (None, 1)            0           conv1d_3[0][0]                   \n",
            "__________________________________________________________________________________________________\n",
            "global_max_pooling1d_4 (GlobalM (None, 1)            0           conv1d_4[0][0]                   \n",
            "__________________________________________________________________________________________________\n",
            "global_max_pooling1d_5 (GlobalM (None, 1)            0           conv1d_5[0][0]                   \n",
            "__________________________________________________________________________________________________\n",
            "global_max_pooling1d_6 (GlobalM (None, 1)            0           conv1d_6[0][0]                   \n",
            "__________________________________________________________________________________________________\n",
            "global_max_pooling1d_7 (GlobalM (None, 1)            0           conv1d_7[0][0]                   \n",
            "__________________________________________________________________________________________________\n",
            "global_max_pooling1d_8 (GlobalM (None, 1)            0           conv1d_8[0][0]                   \n",
            "__________________________________________________________________________________________________\n",
            "global_max_pooling1d_9 (GlobalM (None, 1)            0           conv1d_9[0][0]                   \n",
            "__________________________________________________________________________________________________\n",
            "global_max_pooling1d_10 (Global (None, 1)            0           conv1d_10[0][0]                  \n",
            "__________________________________________________________________________________________________\n",
            "global_max_pooling1d_11 (Global (None, 1)            0           conv1d_11[0][0]                  \n",
            "__________________________________________________________________________________________________\n",
            "global_max_pooling1d_12 (Global (None, 1)            0           conv1d_12[0][0]                  \n",
            "__________________________________________________________________________________________________\n",
            "concatenate_1 (Concatenate)     (None, 12)           0           global_max_pooling1d_1[0][0]     \n",
            "                                                                 global_max_pooling1d_2[0][0]     \n",
            "                                                                 global_max_pooling1d_3[0][0]     \n",
            "                                                                 global_max_pooling1d_4[0][0]     \n",
            "                                                                 global_max_pooling1d_5[0][0]     \n",
            "                                                                 global_max_pooling1d_6[0][0]     \n",
            "                                                                 global_max_pooling1d_7[0][0]     \n",
            "                                                                 global_max_pooling1d_8[0][0]     \n",
            "                                                                 global_max_pooling1d_9[0][0]     \n",
            "                                                                 global_max_pooling1d_10[0][0]    \n",
            "                                                                 global_max_pooling1d_11[0][0]    \n",
            "                                                                 global_max_pooling1d_12[0][0]    \n",
            "__________________________________________________________________________________________________\n",
            "dropout_2 (Dropout)             (None, 12)           0           concatenate_1[0][0]              \n",
            "__________________________________________________________________________________________________\n",
            "dense_1 (Dense)                 (None, 30)           390         dropout_2[0][0]                  \n",
            "__________________________________________________________________________________________________\n",
            "dense_2 (Dense)                 (None, 1)            31          dense_1[0][0]                    \n",
            "__________________________________________________________________________________________________\n",
            "activation_1 (Activation)       (None, 1)            0           dense_2[0][0]                    \n",
            "==================================================================================================\n",
            "Total params: 10,003,433\n",
            "Trainable params: 10,003,433\n",
            "Non-trainable params: 0\n",
            "__________________________________________________________________________________________________\n"
          ],
          "name": "stdout"
        }
      ]
    },
    {
      "cell_type": "code",
      "metadata": {
        "id": "kiVFhCbzbex3",
        "colab": {
          "base_uri": "https://localhost:8080/",
          "height": 394
        },
        "outputId": "46363d9b-e225-496f-9784-24d0876264c9"
      },
      "source": [
        "checkpoint = ModelCheckpoint(\"cnn-trainable-{epoch:02d}-{val_f1:.2f}.hdf5\", \n",
        "                             monitor='val_f1', save_best_only=True, mode='max', period=1)\n",
        "\n",
        "history_trainable = model.fit(x_train_seq, y_train, batch_size=32, epochs=10, validation_split=0.25, callbacks = [checkpoint])"
      ],
      "execution_count": null,
      "outputs": [
        {
          "output_type": "stream",
          "text": [
            "Train on 134307 samples, validate on 44769 samples\n",
            "Epoch 1/10\n",
            "134307/134307 [==============================] - 75s 562us/step - loss: 0.4589 - precision: 0.7827 - recall: 0.7693 - f1: 0.7703 - val_loss: 0.4771 - val_precision: 0.8006 - val_recall: 0.7056 - val_f1: 0.7436\n",
            "Epoch 2/10\n",
            "134307/134307 [==============================] - 75s 560us/step - loss: 0.4566 - precision: 0.7867 - recall: 0.7708 - f1: 0.7730 - val_loss: 0.4743 - val_precision: 0.7953 - val_recall: 0.7166 - val_f1: 0.7474\n",
            "Epoch 3/10\n",
            "134307/134307 [==============================] - 75s 558us/step - loss: 0.4526 - precision: 0.7869 - recall: 0.7748 - f1: 0.7750 - val_loss: 0.4759 - val_precision: 0.8027 - val_recall: 0.7054 - val_f1: 0.7441\n",
            "Epoch 4/10\n",
            "134307/134307 [==============================] - 75s 558us/step - loss: 0.4483 - precision: 0.7923 - recall: 0.7778 - f1: 0.7795 - val_loss: 0.4726 - val_precision: 0.7976 - val_recall: 0.7182 - val_f1: 0.7493\n",
            "Epoch 5/10\n",
            "134307/134307 [==============================] - 75s 557us/step - loss: 0.4454 - precision: 0.7920 - recall: 0.7801 - f1: 0.7803 - val_loss: 0.4723 - val_precision: 0.8002 - val_recall: 0.7171 - val_f1: 0.7498\n",
            "Epoch 6/10\n",
            "134307/134307 [==============================] - 75s 560us/step - loss: 0.4409 - precision: 0.7965 - recall: 0.7817 - f1: 0.7836 - val_loss: 0.4724 - val_precision: 0.8039 - val_recall: 0.7155 - val_f1: 0.7505\n",
            "Epoch 7/10\n",
            "134307/134307 [==============================] - 75s 558us/step - loss: 0.4395 - precision: 0.7980 - recall: 0.7839 - f1: 0.7854 - val_loss: 0.4720 - val_precision: 0.8020 - val_recall: 0.7171 - val_f1: 0.7506\n",
            "Epoch 8/10\n",
            "134307/134307 [==============================] - 75s 561us/step - loss: 0.4358 - precision: 0.7991 - recall: 0.7867 - f1: 0.7873 - val_loss: 0.4722 - val_precision: 0.8078 - val_recall: 0.7102 - val_f1: 0.7490\n",
            "Epoch 9/10\n",
            "134307/134307 [==============================] - 75s 560us/step - loss: 0.4322 - precision: 0.8013 - recall: 0.7899 - f1: 0.7904 - val_loss: 0.4710 - val_precision: 0.8065 - val_recall: 0.7130 - val_f1: 0.7502\n",
            "Epoch 10/10\n",
            "134307/134307 [==============================] - 75s 559us/step - loss: 0.4296 - precision: 0.8033 - recall: 0.7892 - f1: 0.7909 - val_loss: 0.4686 - val_precision: 0.8022 - val_recall: 0.7236 - val_f1: 0.7542\n"
          ],
          "name": "stdout"
        }
      ]
    },
    {
      "cell_type": "code",
      "metadata": {
        "id": "m1FsB5B6bhMF"
      },
      "source": [
        "model.load_weights('cnn-trainable-10-0.75.hdf5')"
      ],
      "execution_count": null,
      "outputs": []
    },
    {
      "cell_type": "code",
      "metadata": {
        "id": "zW6ZwNVjbiUS",
        "colab": {
          "base_uri": "https://localhost:8080/",
          "height": 170
        },
        "outputId": "e8a945e0-00af-48b3-8323-88f3f3a68ef4"
      },
      "source": [
        "predicted = np.round(model.predict(x_test_seq))\n",
        "print(classification_report(y_test, predicted, digits=5))"
      ],
      "execution_count": null,
      "outputs": [
        {
          "output_type": "stream",
          "text": [
            "              precision    recall  f1-score   support\n",
            "\n",
            "           0    0.74672   0.80750   0.77592     22457\n",
            "           1    0.78897   0.72433   0.75527     22313\n",
            "\n",
            "    accuracy                        0.76605     44770\n",
            "   macro avg    0.76784   0.76591   0.76559     44770\n",
            "weighted avg    0.76777   0.76605   0.76563     44770\n",
            "\n"
          ],
          "name": "stdout"
        }
      ]
    }
  ]
}